{
 "cells": [
  {
   "cell_type": "code",
   "execution_count": 105,
   "metadata": {
    "collapsed": true
   },
   "outputs": [],
   "source": [
    "import psycopg2\n",
    "import gensim\n",
    "from collections import namedtuple, Counter\n",
    "\n",
    "model = gensim.models.doc2vec.Doc2Vec.load('../models/doc2vec_2k_primary_key')\n",
    "\n",
    "with psycopg2.connect(dbname='arxiv') as conn:\n",
    "    with conn.cursor() as cur:\n",
    "        cur.execute(\"SELECT * FROM articles\")        \n",
    "        col_names = [col.name for col in cur.description]\n",
    "        Article = namedtuple(\"Article\", col_names)\n",
    "        hits = 0\n",
    "        for row in cur:\n",
    "            article = Article(*row)\n",
    "            relateds = model.docvecs.most_similar(positive=[article.index], topn=2)\n",
    "            related_ids = tuple([idx for idx, similarity in relateds])\n",
    "            with conn.cursor() as newcur:\n",
    "                newcur.execute(\"SELECT subject FROM articles WHERE index in %s\"%(related_ids, ))\n",
    "                cats = newcur.fetchall()\n",
    "                new_hits = [1 if cat==article.subject else 0 for cat in cats]\n",
    "                hits += sum(new_hits)\n",
    "\n",
    "print(hits)"
   ]
  },
  {
   "cell_type": "code",
   "execution_count": 77,
   "metadata": {
    "collapsed": false
   },
   "outputs": [
    {
     "name": "stdout",
     "output_type": "stream",
     "text": [
      "SELECT * FROM articles WHERE index=200\n"
     ]
    },
    {
     "data": {
      "text/plain": [
       "[(200,\n",
       "  'Riemann curvature of a boosted spacetime geometry',\n",
       "  'Battista, Emmanuele|Esposito, Giampiero|Scudellaro, Paolo|Tramontano, Francesco',\n",
       "  'High Energy Physics - Theory',\n",
       "  \"The ultrarelativistic boosting procedure had been applied in the literature to map the metric of Schwarzschild-de Sitter spacetime into a metric describing de Sitter spacetime plus a shock-wave singularity located on a null hypersurface. This paper evaluates the Riemann curvature tensor of the boosted Schwarzschild-de Sitter metric by means of numerical calculations, which make it possible to reach the ultrarelativistic regime gradually by letting the boost velocity approach the speed of light. Thus, for the first time in the literature, the singular limit of curvature through Dirac's delta distribution and its derivatives is numerically evaluated for this class of spacetimes. Eventually, the analysis of the Kretschmann invariant and the geodesic equation show that the spacetime possesses a scalar curvature singularity within a 3-sphere and it is possible to define what we here call boosted horizon, a sort of elastic wall where all particles are surprisingly pushed away, as numerical analysis demonstrates. This seems to suggest that boosted geometries are ruled by a sort of antigravity effect since all geodesics seem to refuse to enter the boosted horizon, even though their initial conditions are aimed at driving the particles towards the boosted horizon.\",\n",
       "  datetime.date(2015, 9, 18),\n",
       "  '1405.0904')]"
      ]
     },
     "execution_count": 77,
     "metadata": {},
     "output_type": "execute_result"
    }
   ],
   "source": []
  },
  {
   "cell_type": "code",
   "execution_count": 24,
   "metadata": {
    "collapsed": false
   },
   "outputs": [
    {
     "data": {
      "text/plain": [
       "(Column(name='index', type_code=23, display_size=None, internal_size=4, precision=None, scale=None, null_ok=None),\n",
       " Column(name='title', type_code=25, display_size=None, internal_size=-1, precision=None, scale=None, null_ok=None),\n",
       " Column(name='authors', type_code=25, display_size=None, internal_size=-1, precision=None, scale=None, null_ok=None),\n",
       " Column(name='subject', type_code=25, display_size=None, internal_size=-1, precision=None, scale=None, null_ok=None),\n",
       " Column(name='abstract', type_code=25, display_size=None, internal_size=-1, precision=None, scale=None, null_ok=None),\n",
       " Column(name='last_submitted', type_code=1082, display_size=None, internal_size=4, precision=None, scale=None, null_ok=None),\n",
       " Column(name='arxiv_id', type_code=25, display_size=None, internal_size=-1, precision=None, scale=None, null_ok=None))"
      ]
     },
     "execution_count": 24,
     "metadata": {},
     "output_type": "execute_result"
    }
   ],
   "source": []
  },
  {
   "cell_type": "code",
   "execution_count": null,
   "metadata": {
    "collapsed": true
   },
   "outputs": [],
   "source": []
  }
 ],
 "metadata": {
  "kernelspec": {
   "display_name": "Python 3",
   "language": "python",
   "name": "python3"
  },
  "language_info": {
   "codemirror_mode": {
    "name": "ipython",
    "version": 3
   },
   "file_extension": ".py",
   "mimetype": "text/x-python",
   "name": "python",
   "nbconvert_exporter": "python",
   "pygments_lexer": "ipython3",
   "version": "3.4.3"
  }
 },
 "nbformat": 4,
 "nbformat_minor": 0
}
