{
 "cells": [
  {
   "cell_type": "code",
   "execution_count": 112,
   "metadata": {
    "collapsed": false
   },
   "outputs": [
    {
     "name": "stdout",
     "output_type": "stream",
     "text": [
      "2000\n",
      "0\n"
     ]
    },
    {
     "data": {
      "text/plain": [
       "1"
      ]
     },
     "execution_count": 112,
     "metadata": {},
     "output_type": "execute_result"
    }
   ],
   "source": [
    "import psycopg2\n",
    "import gensim\n",
    "from collections import namedtuple, Counter\n",
    "\n",
    "model = gensim.models.doc2vec.Doc2Vec.load('../models/doc2vec_2k_primary_key')\n",
    "\n",
    "with psycopg2.connect(dbname='arxiv') as conn:\n",
    "    with conn.cursor() as cur:\n",
    "        print(cur.itersize)\n",
    "        cur.execute(\"SELECT * FROM articles limit 5\")        \n",
    "        col_names = [col.name for col in cur.description]\n",
    "        Article = namedtuple(\"Article\", col_names)\n",
    "        hits = 0\n",
    "        for row in cur:\n",
    "            article = Article(*row)\n",
    "            relateds = model.docvecs.most_similar(positive=[article.index], topn=2)\n",
    "            related_ids = tuple([idx for idx, similarity in relateds])\n",
    "            with conn.cursor() as newcur:\n",
    "                newcur.execute(\"SELECT subject FROM articles WHERE index in %s\"%(related_ids, ))\n",
    "                cats = newcur.fetchall()\n",
    "                new_hits = [1 if cat==article.subject else 0 for cat in cats]\n",
    "                hits += sum(new_hits)\n",
    "\n",
    "print(hits)\n",
    "cur.arraysize"
   ]
  },
  {
   "cell_type": "code",
   "execution_count": 113,
   "metadata": {
    "collapsed": false
   },
   "outputs": [
    {
     "name": "stdout",
     "output_type": "stream",
     "text": [
      "[(2000,)]\n"
     ]
    }
   ],
   "source": [
    "with psycopg2.connect(dbname='arxiv') as conn:\n",
    "    with conn.cursor() as cur:\n",
    "        cur.execute(\"select count(*) from articles\")\n",
    "        result = cur.fetchall()\n",
    "        print(result)"
   ]
  },
  {
   "cell_type": "code",
   "execution_count": 24,
   "metadata": {
    "collapsed": false
   },
   "outputs": [
    {
     "data": {
      "text/plain": [
       "(Column(name='index', type_code=23, display_size=None, internal_size=4, precision=None, scale=None, null_ok=None),\n",
       " Column(name='title', type_code=25, display_size=None, internal_size=-1, precision=None, scale=None, null_ok=None),\n",
       " Column(name='authors', type_code=25, display_size=None, internal_size=-1, precision=None, scale=None, null_ok=None),\n",
       " Column(name='subject', type_code=25, display_size=None, internal_size=-1, precision=None, scale=None, null_ok=None),\n",
       " Column(name='abstract', type_code=25, display_size=None, internal_size=-1, precision=None, scale=None, null_ok=None),\n",
       " Column(name='last_submitted', type_code=1082, display_size=None, internal_size=4, precision=None, scale=None, null_ok=None),\n",
       " Column(name='arxiv_id', type_code=25, display_size=None, internal_size=-1, precision=None, scale=None, null_ok=None))"
      ]
     },
     "execution_count": 24,
     "metadata": {},
     "output_type": "execute_result"
    }
   ],
   "source": []
  },
  {
   "cell_type": "code",
   "execution_count": null,
   "metadata": {
    "collapsed": true
   },
   "outputs": [],
   "source": []
  }
 ],
 "metadata": {
  "kernelspec": {
   "display_name": "Python 3",
   "language": "python",
   "name": "python3"
  },
  "language_info": {
   "codemirror_mode": {
    "name": "ipython",
    "version": 3
   },
   "file_extension": ".py",
   "mimetype": "text/x-python",
   "name": "python",
   "nbconvert_exporter": "python",
   "pygments_lexer": "ipython3",
   "version": "3.4.3"
  }
 },
 "nbformat": 4,
 "nbformat_minor": 0
}
