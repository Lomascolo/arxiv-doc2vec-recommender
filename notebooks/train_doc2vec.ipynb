{
 "cells": [
  {
   "cell_type": "code",
   "execution_count": 2,
   "metadata": {
    "collapsed": true
   },
   "outputs": [],
   "source": [
    "from pymongo.mongo_client import MongoClient\n",
    "import gensim"
   ]
  },
  {
   "cell_type": "code",
   "execution_count": 3,
   "metadata": {
    "collapsed": true
   },
   "outputs": [],
   "source": [
    "client = MongoClient()\n",
    "collection = client.arxiv.articles"
   ]
  },
  {
   "cell_type": "code",
   "execution_count": 4,
   "metadata": {
    "collapsed": false
   },
   "outputs": [],
   "source": [
    "docs = []\n",
    "for item in collection.find():\n",
    "    words = gensim.utils.simple_preprocess(item['summary'])\n",
    "#     tag = item['id']\n",
    "    tag = item['arxiv_primary_category']['term']\n",
    "    docs.append(gensim.models.doc2vec.TaggedDocument(words, [tag]))"
   ]
  },
  {
   "cell_type": "code",
   "execution_count": 5,
   "metadata": {
    "collapsed": false
   },
   "outputs": [],
   "source": [
    "model = gensim.models.doc2vec.Doc2Vec(docs, workers=4)"
   ]
  },
  {
   "cell_type": "code",
   "execution_count": 6,
   "metadata": {
    "collapsed": false
   },
   "outputs": [
    {
     "data": {
      "text/plain": [
       "[('scalar', 0.7116305828094482),\n",
       " ('tensor', 0.6654630899429321),\n",
       " ('lorentz', 0.6240475177764893),\n",
       " ('valued', 0.6013736724853516),\n",
       " ('conformal', 0.5779418349266052),\n",
       " ('gauge', 0.5741989016532898),\n",
       " ('quadratic', 0.561519980430603),\n",
       " ('curvature', 0.560096263885498),\n",
       " ('pseudoscalar', 0.5503747463226318),\n",
       " ('axial', 0.548353910446167)]"
      ]
     },
     "execution_count": 6,
     "metadata": {},
     "output_type": "execute_result"
    }
   ],
   "source": [
    "model.most_similar(positive=['vector'])"
   ]
  },
  {
   "cell_type": "code",
   "execution_count": 30,
   "metadata": {
    "collapsed": false
   },
   "outputs": [],
   "source": [
    "vector_vec = model.infer_vector('vector')"
   ]
  },
  {
   "cell_type": "code",
   "execution_count": 31,
   "metadata": {
    "collapsed": false
   },
   "outputs": [
    {
     "data": {
      "text/plain": [
       "[('classifies', 0.22874610126018524),\n",
       " ('meanwhile', 0.22553092241287231),\n",
       " ('showcase', 0.22311025857925415),\n",
       " ('intervening', 0.21904277801513672),\n",
       " ('leveraged', 0.1990986168384552),\n",
       " ('annuity', 0.19818773865699768),\n",
       " ('solve', 0.1974664032459259),\n",
       " ('ungauged', 0.19345450401306152),\n",
       " ('announced', 0.19281189143657684),\n",
       " ('leffler', 0.1927436888217926)]"
      ]
     },
     "execution_count": 31,
     "metadata": {},
     "output_type": "execute_result"
    }
   ],
   "source": [
    "model.most_similar(positive=[vector_vec])"
   ]
  },
  {
   "cell_type": "code",
   "execution_count": 35,
   "metadata": {
    "collapsed": false,
    "scrolled": true
   },
   "outputs": [],
   "source": [
    "ai_related = model.docvecs.most_similar('cs.AI', topn=200)"
   ]
  },
  {
   "cell_type": "code",
   "execution_count": 39,
   "metadata": {
    "collapsed": false
   },
   "outputs": [],
   "source": [
    "ai_related_not_in_cs = [(cat,sim) for cat,sim in ai_related if not cat.startswith('cs')]"
   ]
  },
  {
   "cell_type": "code",
   "execution_count": 40,
   "metadata": {
    "collapsed": false
   },
   "outputs": [
    {
     "data": {
      "text/plain": [
       "[('stat.ML', 0.8434848785400391),\n",
       " ('stat.ME', 0.7796870470046997),\n",
       " ('q-fin.PM', 0.7789666652679443),\n",
       " ('stat.CO', 0.7604587078094482),\n",
       " ('math.OC', 0.7492505311965942),\n",
       " ('q-fin.RM', 0.7398270964622498),\n",
       " ('q-bio.MN', 0.728412389755249),\n",
       " ('stat.AP', 0.7281472682952881),\n",
       " ('math.ST', 0.7264813780784607),\n",
       " ('q-bio.QM', 0.7107497453689575),\n",
       " ('q-bio.NC', 0.643532395362854),\n",
       " ('q-fin.CP', 0.6434652805328369),\n",
       " ('physics.soc-ph', 0.6190789937973022),\n",
       " ('q-bio.PE', 0.6080213189125061),\n",
       " ('q-bio.GN', 0.6000803112983704),\n",
       " ('q-fin.PR', 0.5744031071662903),\n",
       " ('stat.OT', 0.5644927024841309),\n",
       " ('physics.data-an', 0.5632250905036926),\n",
       " ('q-fin.GN', 0.5381014943122864),\n",
       " ('physics.ed-ph', 0.5378150343894958),\n",
       " ('q-fin.EC', 0.5174562335014343),\n",
       " ('q-fin.TR', 0.47576916217803955),\n",
       " ('math.NA', 0.47322243452072144),\n",
       " ('math.HO', 0.46594637632369995),\n",
       " ('physics.comp-ph', 0.4648459255695343),\n",
       " ('q-fin.ST', 0.4260466694831848),\n",
       " ('q-fin.MF', 0.41514381766319275),\n",
       " ('q-bio.OT', 0.39239686727523804),\n",
       " ('nlin.AO', 0.36377808451652527),\n",
       " ('math.LO', 0.36202770471572876),\n",
       " ('physics.med-ph', 0.29514873027801514),\n",
       " ('nlin.CG', 0.28843599557876587),\n",
       " ('q-bio.TO', 0.2880789041519165),\n",
       " ('math.PR', 0.2657216787338257),\n",
       " ('quant-ph', 0.260057270526886),\n",
       " ('q-bio.CB', 0.2553568184375763),\n",
       " ('math.MG', 0.24268943071365356),\n",
       " ('nlin.CD', 0.23103225231170654),\n",
       " ('math.SP', 0.22186294198036194),\n",
       " ('math.GM', 0.21095076203346252),\n",
       " ('math.CO', 0.21067243814468384),\n",
       " ('q-bio.BM', 0.20196332037448883),\n",
       " ('math.GN', 0.18837158381938934),\n",
       " ('math.CA', 0.18056531250476837),\n",
       " ('math.FA', 0.17191141843795776),\n",
       " ('physics.geo-ph', 0.17080652713775635),\n",
       " ('astro-ph.IM', 0.13515225052833557),\n",
       " ('physics.bio-ph', 0.11955094337463379),\n",
       " ('cond-mat.dis-nn', 0.11747396737337112),\n",
       " ('math.CT', 0.11528235673904419),\n",
       " ('nlin.SI', 0.11391004174947739),\n",
       " ('math.AT', 0.11145953834056854),\n",
       " ('math.DS', 0.10403452813625336),\n",
       " ('q-bio.SC', 0.10099191963672638),\n",
       " ('math.AC', 0.08412852138280869),\n",
       " ('math.GR', 0.08341579139232635),\n",
       " ('math-ph', 0.07994724810123444),\n",
       " ('math.CV', 0.07721886783838272),\n",
       " ('math.NT', 0.07702804356813431),\n",
       " ('math.SG', 0.0692269429564476),\n",
       " ('math.AG', 0.0636153370141983),\n",
       " ('math.KT', 0.062187254428863525),\n",
       " ('physics.hist-ph', 0.06169569864869118),\n",
       " ('cond-mat.stat-mech', 0.06147606298327446),\n",
       " ('math.AP', 0.05788435786962509),\n",
       " ('math.GT', 0.053214289247989655),\n",
       " ('math.DG', 0.049011509865522385),\n",
       " ('physics.ins-det', 0.04489140957593918),\n",
       " ('physics.acc-ph', 0.04450666159391403),\n",
       " ('math.QA', 0.016984304413199425),\n",
       " ('math.RA', 0.014334648847579956),\n",
       " ('math.OA', 0.010824532248079777),\n",
       " ('math.RT', 0.0028726626187562943),\n",
       " ('physics.optics', -0.0026926621794700623),\n",
       " ('nlin.PS', -0.010787956416606903),\n",
       " ('physics.pop-ph', -0.014386281371116638),\n",
       " ('physics.ao-ph', -0.02371232397854328),\n",
       " ('hep-ph', -0.024046489968895912),\n",
       " ('hep-ex', -0.04947082698345184),\n",
       " ('hep-th', -0.05187365412712097),\n",
       " ('physics.chem-ph', -0.05196954309940338),\n",
       " ('cond-mat.soft', -0.05612075701355934),\n",
       " ('gr-qc', -0.07497235387563705),\n",
       " ('physics.gen-ph', -0.11264011263847351),\n",
       " ('physics.flu-dyn', -0.11795715242624283),\n",
       " ('hep-lat', -0.11986012756824493),\n",
       " ('cond-mat.mes-hall', -0.13115942478179932),\n",
       " ('physics.class-ph', -0.1428728550672531),\n",
       " ('cond-mat.mtrl-sci', -0.15824200212955475),\n",
       " ('astro-ph.EP', -0.16396483778953552),\n",
       " ('cond-mat.other', -0.18047171831130981),\n",
       " ('astro-ph.GA', -0.19093309342861176),\n",
       " ('physics.atom-ph', -0.19119861721992493),\n",
       " ('cond-mat.str-el', -0.194067120552063),\n",
       " ('astro-ph.CO', -0.20037449896335602),\n",
       " ('physics.plasm-ph', -0.20526233315467834),\n",
       " ('cond-mat.quant-gas', -0.2067054808139801),\n",
       " ('nucl-th', -0.2075299769639969),\n",
       " ('physics.space-ph', -0.21451207995414734),\n",
       " ('physics.atm-clus', -0.21592751145362854),\n",
       " ('astro-ph.SR', -0.21883970499038696),\n",
       " ('astro-ph.HE', -0.22494351863861084),\n",
       " ('nucl-ex', -0.2389901578426361),\n",
       " ('cond-mat.supr-con', -0.2656332850456238)]"
      ]
     },
     "execution_count": 40,
     "metadata": {},
     "output_type": "execute_result"
    }
   ],
   "source": [
    "ai_related_not_in_cs"
   ]
  },
  {
   "cell_type": "code",
   "execution_count": 18,
   "metadata": {
    "collapsed": false
   },
   "outputs": [
    {
     "data": {
      "text/plain": [
       "{'astro-ph.CO': Doctag(index=43, word_count=138352, doc_count=641),\n",
       " 'astro-ph.EP': Doctag(index=44, word_count=69102, doc_count=315),\n",
       " 'astro-ph.GA': Doctag(index=12, word_count=204128, doc_count=902),\n",
       " 'astro-ph.HE': Doctag(index=47, word_count=131253, doc_count=664),\n",
       " 'astro-ph.IM': Doctag(index=59, word_count=75680, doc_count=405),\n",
       " 'astro-ph.SR': Doctag(index=9, word_count=192530, doc_count=891),\n",
       " 'cond-mat.dis-nn': Doctag(index=87, word_count=11311, doc_count=66),\n",
       " 'cond-mat.mes-hall': Doctag(index=21, word_count=62856, doc_count=410),\n",
       " 'cond-mat.mtrl-sci': Doctag(index=13, word_count=70021, doc_count=432),\n",
       " 'cond-mat.other': Doctag(index=121, word_count=2522, doc_count=15),\n",
       " 'cond-mat.quant-gas': Doctag(index=33, word_count=17526, doc_count=117),\n",
       " 'cond-mat.soft': Doctag(index=10, word_count=33311, doc_count=192),\n",
       " 'cond-mat.stat-mech': Doctag(index=45, word_count=46679, doc_count=299),\n",
       " 'cond-mat.str-el': Doctag(index=26, word_count=48749, doc_count=306),\n",
       " 'cond-mat.supr-con': Doctag(index=5, word_count=28244, doc_count=185),\n",
       " 'cs.AI': Doctag(index=32, word_count=28306, doc_count=165),\n",
       " 'cs.AR': Doctag(index=134, word_count=2013, doc_count=13),\n",
       " 'cs.CC': Doctag(index=79, word_count=19396, doc_count=116),\n",
       " 'cs.CE': Doctag(index=113, word_count=6664, doc_count=38),\n",
       " 'cs.CG': Doctag(index=92, word_count=14644, doc_count=84),\n",
       " 'cs.CL': Doctag(index=86, word_count=10289, doc_count=66),\n",
       " 'cs.CR': Doctag(index=19, word_count=24847, doc_count=145),\n",
       " 'cs.CV': Doctag(index=8, word_count=39444, doc_count=226),\n",
       " 'cs.CY': Doctag(index=97, word_count=12048, doc_count=70),\n",
       " 'cs.DB': Doctag(index=64, word_count=13672, doc_count=75),\n",
       " 'cs.DC': Doctag(index=55, word_count=25447, doc_count=130),\n",
       " 'cs.DL': Doctag(index=84, word_count=9720, doc_count=53),\n",
       " 'cs.DM': Doctag(index=31, word_count=17748, doc_count=107),\n",
       " 'cs.DS': Doctag(index=69, word_count=62083, doc_count=342),\n",
       " 'cs.ET': Doctag(index=114, word_count=3232, doc_count=17),\n",
       " 'cs.FL': Doctag(index=91, word_count=8679, doc_count=61),\n",
       " 'cs.GR': Doctag(index=108, word_count=2716, doc_count=15),\n",
       " 'cs.GT': Doctag(index=94, word_count=33171, doc_count=170),\n",
       " 'cs.HC': Doctag(index=135, word_count=5153, doc_count=29),\n",
       " 'cs.IR': Doctag(index=53, word_count=8463, doc_count=46),\n",
       " 'cs.IT': Doctag(index=20, word_count=97436, doc_count=548),\n",
       " 'cs.LG': Doctag(index=37, word_count=33158, doc_count=189),\n",
       " 'cs.LO': Doctag(index=90, word_count=21239, doc_count=138),\n",
       " 'cs.MA': Doctag(index=129, word_count=2686, doc_count=12),\n",
       " 'cs.MM': Doctag(index=142, word_count=3110, doc_count=18),\n",
       " 'cs.MS': Doctag(index=136, word_count=2561, doc_count=17),\n",
       " 'cs.NA': Doctag(index=105, word_count=3442, doc_count=20),\n",
       " 'cs.NE': Doctag(index=103, word_count=11674, doc_count=67),\n",
       " 'cs.NI': Doctag(index=18, word_count=32216, doc_count=177),\n",
       " 'cs.OH': Doctag(index=50, word_count=7559, doc_count=49),\n",
       " 'cs.OS': Doctag(index=23, word_count=1461, doc_count=9),\n",
       " 'cs.PF': Doctag(index=100, word_count=1492, doc_count=10),\n",
       " 'cs.PL': Doctag(index=56, word_count=7591, doc_count=45),\n",
       " 'cs.RO': Doctag(index=70, word_count=4884, doc_count=28),\n",
       " 'cs.SC': Doctag(index=17, word_count=2683, doc_count=20),\n",
       " 'cs.SD': Doctag(index=120, word_count=2116, doc_count=13),\n",
       " 'cs.SE': Doctag(index=109, word_count=13372, doc_count=85),\n",
       " 'cs.SI': Doctag(index=40, word_count=21928, doc_count=114),\n",
       " 'cs.SY': Doctag(index=14, word_count=13667, doc_count=84),\n",
       " 'gr-qc': Doctag(index=15, word_count=77296, doc_count=483),\n",
       " 'hep-ex': Doctag(index=61, word_count=40847, doc_count=278),\n",
       " 'hep-lat': Doctag(index=102, word_count=15400, doc_count=111),\n",
       " 'hep-ph': Doctag(index=2, word_count=162599, doc_count=1055),\n",
       " 'hep-th': Doctag(index=0, word_count=125739, doc_count=875),\n",
       " 'math-ph': Doctag(index=6, word_count=44005, doc_count=321),\n",
       " 'math.AC': Doctag(index=74, word_count=13916, doc_count=139),\n",
       " 'math.AG': Doctag(index=46, word_count=40638, doc_count=374),\n",
       " 'math.AP': Doctag(index=29, word_count=42491, doc_count=342),\n",
       " 'math.AT': Doctag(index=66, word_count=12564, doc_count=103),\n",
       " 'math.CA': Doctag(index=11, word_count=17627, doc_count=167),\n",
       " 'math.CO': Doctag(index=4, word_count=109835, doc_count=890),\n",
       " 'math.CT': Doctag(index=27, word_count=5691, doc_count=42),\n",
       " 'math.CV': Doctag(index=95, word_count=8885, doc_count=93),\n",
       " 'math.DG': Doctag(index=49, word_count=28887, doc_count=282),\n",
       " 'math.DS': Doctag(index=54, word_count=37319, doc_count=298),\n",
       " 'math.FA': Doctag(index=51, word_count=22460, doc_count=204),\n",
       " 'math.GM': Doctag(index=127, word_count=4505, doc_count=33),\n",
       " 'math.GN': Doctag(index=83, word_count=4925, doc_count=39),\n",
       " 'math.GR': Doctag(index=76, word_count=25474, doc_count=244),\n",
       " 'math.GT': Doctag(index=57, word_count=19897, doc_count=188),\n",
       " 'math.HO': Doctag(index=123, word_count=4101, doc_count=33),\n",
       " 'math.KT': Doctag(index=115, word_count=3667, doc_count=30),\n",
       " 'math.LO': Doctag(index=3, word_count=20905, doc_count=157),\n",
       " 'math.MG': Doctag(index=88, word_count=10049, doc_count=91),\n",
       " 'math.NA': Doctag(index=62, word_count=28652, doc_count=181),\n",
       " 'math.NT': Doctag(index=39, word_count=49782, doc_count=469),\n",
       " 'math.OA': Doctag(index=16, word_count=11331, doc_count=96),\n",
       " 'math.OC': Doctag(index=24, word_count=32606, doc_count=206),\n",
       " 'math.PR': Doctag(index=30, word_count=51239, doc_count=365),\n",
       " 'math.QA': Doctag(index=106, word_count=8755, doc_count=83),\n",
       " 'math.RA': Doctag(index=60, word_count=19462, doc_count=187),\n",
       " 'math.RT': Doctag(index=1, word_count=26810, doc_count=235),\n",
       " 'math.SG': Doctag(index=130, word_count=5756, doc_count=51),\n",
       " 'math.SP': Doctag(index=25, word_count=7108, doc_count=55),\n",
       " 'math.ST': Doctag(index=65, word_count=18292, doc_count=116),\n",
       " 'nlin.AO': Doctag(index=98, word_count=2137, doc_count=11),\n",
       " 'nlin.CD': Doctag(index=81, word_count=9137, doc_count=57),\n",
       " 'nlin.CG': Doctag(index=139, word_count=1454, doc_count=8),\n",
       " 'nlin.PS': Doctag(index=107, word_count=6602, doc_count=42),\n",
       " 'nlin.SI': Doctag(index=22, word_count=5550, doc_count=42),\n",
       " 'nucl-ex': Doctag(index=75, word_count=11704, doc_count=77),\n",
       " 'nucl-th': Doctag(index=7, word_count=32824, doc_count=207),\n",
       " 'physics.acc-ph': Doctag(index=119, word_count=6058, doc_count=43),\n",
       " 'physics.ao-ph': Doctag(index=52, word_count=5548, doc_count=27),\n",
       " 'physics.atm-clus': Doctag(index=112, word_count=1333, doc_count=9),\n",
       " 'physics.atom-ph': Doctag(index=110, word_count=15848, doc_count=114),\n",
       " 'physics.bio-ph': Doctag(index=42, word_count=12443, doc_count=64),\n",
       " 'physics.chem-ph': Doctag(index=36, word_count=17352, doc_count=104),\n",
       " 'physics.class-ph': Doctag(index=77, word_count=4899, doc_count=28),\n",
       " 'physics.comp-ph': Doctag(index=117, word_count=6899, doc_count=44),\n",
       " 'physics.data-an': Doctag(index=132, word_count=3838, doc_count=24),\n",
       " 'physics.ed-ph': Doctag(index=104, word_count=4304, doc_count=24),\n",
       " 'physics.flu-dyn': Doctag(index=63, word_count=22532, doc_count=124),\n",
       " 'physics.gen-ph': Doctag(index=122, word_count=13428, doc_count=80),\n",
       " 'physics.geo-ph': Doctag(index=96, word_count=3031, doc_count=15),\n",
       " 'physics.hist-ph': Doctag(index=101, word_count=6977, doc_count=39),\n",
       " 'physics.ins-det': Doctag(index=80, word_count=18384, doc_count=110),\n",
       " 'physics.med-ph': Doctag(index=138, word_count=8087, doc_count=37),\n",
       " 'physics.optics': Doctag(index=35, word_count=36466, doc_count=258),\n",
       " 'physics.plasm-ph': Doctag(index=78, word_count=13774, doc_count=83),\n",
       " 'physics.pop-ph': Doctag(index=118, word_count=1487, doc_count=10),\n",
       " 'physics.soc-ph': Doctag(index=82, word_count=27557, doc_count=151),\n",
       " 'physics.space-ph': Doctag(index=48, word_count=3628, doc_count=18),\n",
       " 'q-bio.BM': Doctag(index=124, word_count=7017, doc_count=37),\n",
       " 'q-bio.CB': Doctag(index=58, word_count=1201, doc_count=8),\n",
       " 'q-bio.GN': Doctag(index=128, word_count=8315, doc_count=40),\n",
       " 'q-bio.MN': Doctag(index=99, word_count=8255, doc_count=45),\n",
       " 'q-bio.NC': Doctag(index=73, word_count=10992, doc_count=57),\n",
       " 'q-bio.OT': Doctag(index=140, word_count=2960, doc_count=13),\n",
       " 'q-bio.PE': Doctag(index=85, word_count=20866, doc_count=110),\n",
       " 'q-bio.QM': Doctag(index=38, word_count=10900, doc_count=56),\n",
       " 'q-bio.SC': Doctag(index=125, word_count=1408, doc_count=8),\n",
       " 'q-bio.TO': Doctag(index=111, word_count=2525, doc_count=12),\n",
       " 'q-fin.CP': Doctag(index=126, word_count=1215, doc_count=8),\n",
       " 'q-fin.EC': Doctag(index=89, word_count=2073, doc_count=12),\n",
       " 'q-fin.GN': Doctag(index=116, word_count=3626, doc_count=20),\n",
       " 'q-fin.MF': Doctag(index=71, word_count=1444, doc_count=10),\n",
       " 'q-fin.PM': Doctag(index=67, word_count=1740, doc_count=12),\n",
       " 'q-fin.PR': Doctag(index=41, word_count=2245, doc_count=16),\n",
       " 'q-fin.RM': Doctag(index=133, word_count=2524, doc_count=14),\n",
       " 'q-fin.ST': Doctag(index=131, word_count=3263, doc_count=18),\n",
       " 'q-fin.TR': Doctag(index=137, word_count=2412, doc_count=14),\n",
       " 'quant-ph': Doctag(index=34, word_count=133704, doc_count=908),\n",
       " 'stat.AP': Doctag(index=72, word_count=11733, doc_count=68),\n",
       " 'stat.CO': Doctag(index=93, word_count=5889, doc_count=37),\n",
       " 'stat.ME': Doctag(index=28, word_count=24345, doc_count=139),\n",
       " 'stat.ML': Doctag(index=68, word_count=19133, doc_count=113),\n",
       " 'stat.OT': Doctag(index=141, word_count=1086, doc_count=8)}"
      ]
     },
     "execution_count": 18,
     "metadata": {},
     "output_type": "execute_result"
    }
   ],
   "source": [
    "docvecsarr.doctags"
   ]
  },
  {
   "cell_type": "code",
   "execution_count": null,
   "metadata": {
    "collapsed": true
   },
   "outputs": [],
   "source": []
  },
  {
   "cell_type": "code",
   "execution_count": 190,
   "metadata": {
    "collapsed": true
   },
   "outputs": [],
   "source": [
    "model.save('../models/doc2vec_22k')"
   ]
  }
 ],
 "metadata": {
  "kernelspec": {
   "display_name": "Python 3",
   "language": "python",
   "name": "python3"
  },
  "language_info": {
   "codemirror_mode": {
    "name": "ipython",
    "version": 3
   },
   "file_extension": ".py",
   "mimetype": "text/x-python",
   "name": "python",
   "nbconvert_exporter": "python",
   "pygments_lexer": "ipython3",
   "version": "3.4.3"
  }
 },
 "nbformat": 4,
 "nbformat_minor": 0
}
